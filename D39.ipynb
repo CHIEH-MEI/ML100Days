{
 "cells": [
  {
   "cell_type": "markdown",
   "metadata": {
    "id": "QaFwqkQyE8GE"
   },
   "source": [
    "## 作業\n",
    "在鐵達尼資料集中，今天我們專注觀察變數之間的相關性，以Titanic_train.csv 中，首先將有遺失值的數值刪除，並回答下列問題。\n",
    "* Q1: 透過數值法計算  Age 和  Survived  是否有相關性?\n",
    "* Q2:透過數值法計算  Sex 和 Survived  是否有相關性?\n",
    "* Q3: 透過數值法計算  Age 和  Fare 是否有相關性?   \n",
    "* 提示:    \n",
    "1.產稱一個新的變數 Survived_cate ，資料型態傳換成類別型態      \n",
    "2.把題目中的 Survived 用 Survived_cate 來做分析       \n",
    "3.首先觀察一下這些變數的資料型態後，再來想要以哪一種判斷倆倆的相關性。     \n"
   ]
  },
  {
   "cell_type": "code",
   "execution_count": 1,
   "metadata": {
    "colab": {
     "base_uri": "https://localhost:8080/",
     "height": 369
    },
    "executionInfo": {
     "elapsed": 2242,
     "status": "error",
     "timestamp": 1601990565808,
     "user": {
      "displayName": "陳家揚",
      "photoUrl": "",
      "userId": "06507357541156510761"
     },
     "user_tz": -480
    },
    "id": "yz28_IgkYdBW",
    "outputId": "c37195aa-ba80-42fd-a703-58827b7ba98c"
   },
   "outputs": [],
   "source": [
    "# import library\n",
    "import matplotlib.pyplot as plt\n",
    "import numpy as np\n",
    "import pandas as pd\n",
    "from scipy import stats\n",
    "import math\n",
    "import statistics\n",
    "import seaborn as sns\n",
    "from IPython.display import display\n",
    "\n",
    "import pingouin as pg\n",
    "import researchpy   \n",
    "%matplotlib inline"
   ]
  },
  {
   "cell_type": "markdown",
   "metadata": {
    "id": "M6YWLLdqE8GI"
   },
   "source": [
    "## 讀入資料"
   ]
  },
  {
   "cell_type": "code",
   "execution_count": 24,
   "metadata": {
    "id": "TnU74t6BE8GI",
    "outputId": "e660f13b-1eef-4268-e06e-0599dd2455da"
   },
   "outputs": [
    {
     "name": "stdout",
     "output_type": "stream",
     "text": [
      "<class 'pandas.core.frame.DataFrame'>\n",
      "RangeIndex: 891 entries, 0 to 890\n",
      "Data columns (total 12 columns):\n",
      " #   Column       Non-Null Count  Dtype  \n",
      "---  ------       --------------  -----  \n",
      " 0   PassengerId  891 non-null    int64  \n",
      " 1   Survived     891 non-null    int64  \n",
      " 2   Pclass       891 non-null    int64  \n",
      " 3   Name         891 non-null    object \n",
      " 4   Sex          891 non-null    object \n",
      " 5   Age          714 non-null    float64\n",
      " 6   SibSp        891 non-null    int64  \n",
      " 7   Parch        891 non-null    int64  \n",
      " 8   Ticket       891 non-null    object \n",
      " 9   Fare         891 non-null    float64\n",
      " 10  Cabin        204 non-null    object \n",
      " 11  Embarked     889 non-null    object \n",
      "dtypes: float64(2), int64(5), object(5)\n",
      "memory usage: 83.7+ KB\n",
      "None\n"
     ]
    }
   ],
   "source": [
    "df_train = pd.read_csv(\"Titanic_train.csv\")\n",
    "print(df_train.info())"
   ]
  },
  {
   "cell_type": "code",
   "execution_count": null,
   "metadata": {
    "id": "cITJCaELE8GK"
   },
   "outputs": [],
   "source": [
    "## 這邊我們做一個調整，把 Survived 變成離散型變數 Survived_cate"
   ]
  },
  {
   "cell_type": "code",
   "execution_count": 25,
   "metadata": {
    "scrolled": false
   },
   "outputs": [
    {
     "data": {
      "text/html": [
       "<div>\n",
       "<style scoped>\n",
       "    .dataframe tbody tr th:only-of-type {\n",
       "        vertical-align: middle;\n",
       "    }\n",
       "\n",
       "    .dataframe tbody tr th {\n",
       "        vertical-align: top;\n",
       "    }\n",
       "\n",
       "    .dataframe thead th {\n",
       "        text-align: right;\n",
       "    }\n",
       "</style>\n",
       "<table border=\"1\" class=\"dataframe\">\n",
       "  <thead>\n",
       "    <tr style=\"text-align: right;\">\n",
       "      <th></th>\n",
       "      <th>PassengerId</th>\n",
       "      <th>Survived</th>\n",
       "      <th>Pclass</th>\n",
       "      <th>Name</th>\n",
       "      <th>Sex</th>\n",
       "      <th>Age</th>\n",
       "      <th>SibSp</th>\n",
       "      <th>Parch</th>\n",
       "      <th>Ticket</th>\n",
       "      <th>Fare</th>\n",
       "      <th>Cabin</th>\n",
       "      <th>Embarked</th>\n",
       "    </tr>\n",
       "  </thead>\n",
       "  <tbody>\n",
       "    <tr>\n",
       "      <th>0</th>\n",
       "      <td>1</td>\n",
       "      <td>0</td>\n",
       "      <td>3</td>\n",
       "      <td>Braund, Mr. Owen Harris</td>\n",
       "      <td>male</td>\n",
       "      <td>22.0</td>\n",
       "      <td>1</td>\n",
       "      <td>0</td>\n",
       "      <td>A/5 21171</td>\n",
       "      <td>7.2500</td>\n",
       "      <td>NaN</td>\n",
       "      <td>S</td>\n",
       "    </tr>\n",
       "    <tr>\n",
       "      <th>1</th>\n",
       "      <td>2</td>\n",
       "      <td>1</td>\n",
       "      <td>1</td>\n",
       "      <td>Cumings, Mrs. John Bradley (Florence Briggs Th...</td>\n",
       "      <td>female</td>\n",
       "      <td>38.0</td>\n",
       "      <td>1</td>\n",
       "      <td>0</td>\n",
       "      <td>PC 17599</td>\n",
       "      <td>71.2833</td>\n",
       "      <td>C85</td>\n",
       "      <td>C</td>\n",
       "    </tr>\n",
       "    <tr>\n",
       "      <th>2</th>\n",
       "      <td>3</td>\n",
       "      <td>1</td>\n",
       "      <td>3</td>\n",
       "      <td>Heikkinen, Miss. Laina</td>\n",
       "      <td>female</td>\n",
       "      <td>26.0</td>\n",
       "      <td>0</td>\n",
       "      <td>0</td>\n",
       "      <td>STON/O2. 3101282</td>\n",
       "      <td>7.9250</td>\n",
       "      <td>NaN</td>\n",
       "      <td>S</td>\n",
       "    </tr>\n",
       "    <tr>\n",
       "      <th>3</th>\n",
       "      <td>4</td>\n",
       "      <td>1</td>\n",
       "      <td>1</td>\n",
       "      <td>Futrelle, Mrs. Jacques Heath (Lily May Peel)</td>\n",
       "      <td>female</td>\n",
       "      <td>35.0</td>\n",
       "      <td>1</td>\n",
       "      <td>0</td>\n",
       "      <td>113803</td>\n",
       "      <td>53.1000</td>\n",
       "      <td>C123</td>\n",
       "      <td>S</td>\n",
       "    </tr>\n",
       "    <tr>\n",
       "      <th>4</th>\n",
       "      <td>5</td>\n",
       "      <td>0</td>\n",
       "      <td>3</td>\n",
       "      <td>Allen, Mr. William Henry</td>\n",
       "      <td>male</td>\n",
       "      <td>35.0</td>\n",
       "      <td>0</td>\n",
       "      <td>0</td>\n",
       "      <td>373450</td>\n",
       "      <td>8.0500</td>\n",
       "      <td>NaN</td>\n",
       "      <td>S</td>\n",
       "    </tr>\n",
       "  </tbody>\n",
       "</table>\n",
       "</div>"
      ],
      "text/plain": [
       "   PassengerId  Survived  Pclass  \\\n",
       "0            1         0       3   \n",
       "1            2         1       1   \n",
       "2            3         1       3   \n",
       "3            4         1       1   \n",
       "4            5         0       3   \n",
       "\n",
       "                                                Name     Sex   Age  SibSp  \\\n",
       "0                            Braund, Mr. Owen Harris    male  22.0      1   \n",
       "1  Cumings, Mrs. John Bradley (Florence Briggs Th...  female  38.0      1   \n",
       "2                             Heikkinen, Miss. Laina  female  26.0      0   \n",
       "3       Futrelle, Mrs. Jacques Heath (Lily May Peel)  female  35.0      1   \n",
       "4                           Allen, Mr. William Henry    male  35.0      0   \n",
       "\n",
       "   Parch            Ticket     Fare Cabin Embarked  \n",
       "0      0         A/5 21171   7.2500   NaN        S  \n",
       "1      0          PC 17599  71.2833   C85        C  \n",
       "2      0  STON/O2. 3101282   7.9250   NaN        S  \n",
       "3      0            113803  53.1000  C123        S  \n",
       "4      0            373450   8.0500   NaN        S  "
      ]
     },
     "execution_count": 25,
     "metadata": {},
     "output_type": "execute_result"
    }
   ],
   "source": [
    "df_train.head(5)"
   ]
  },
  {
   "cell_type": "code",
   "execution_count": 37,
   "metadata": {
    "scrolled": true
   },
   "outputs": [
    {
     "name": "stdout",
     "output_type": "stream",
     "text": [
      "<class 'pandas.core.frame.DataFrame'>\n",
      "RangeIndex: 891 entries, 0 to 890\n",
      "Data columns (total 13 columns):\n",
      " #   Column         Non-Null Count  Dtype  \n",
      "---  ------         --------------  -----  \n",
      " 0   PassengerId    891 non-null    int64  \n",
      " 1   Survived       891 non-null    int64  \n",
      " 2   Pclass         891 non-null    int64  \n",
      " 3   Name           891 non-null    object \n",
      " 4   Sex            891 non-null    object \n",
      " 5   Age            714 non-null    float64\n",
      " 6   SibSp          891 non-null    int64  \n",
      " 7   Parch          891 non-null    int64  \n",
      " 8   Ticket         891 non-null    object \n",
      " 9   Fare           891 non-null    float64\n",
      " 10  Cabin          204 non-null    object \n",
      " 11  Embarked       889 non-null    object \n",
      " 12  Survived_cate  891 non-null    object \n",
      "dtypes: float64(2), int64(5), object(6)\n",
      "memory usage: 90.6+ KB\n"
     ]
    }
   ],
   "source": [
    "Survived_cate = pd.Series(df_train['Survived'] , dtype=object)\n",
    "df_train= df_train.join(Survived_cate,rsuffix='_cate')\n",
    "df_train.info()"
   ]
  },
  {
   "cell_type": "code",
   "execution_count": 27,
   "metadata": {},
   "outputs": [
    {
     "data": {
      "text/plain": [
       "0      0\n",
       "1      1\n",
       "2      1\n",
       "3      1\n",
       "4      0\n",
       "      ..\n",
       "886    0\n",
       "887    1\n",
       "888    0\n",
       "889    1\n",
       "890    0\n",
       "Name: Survived, Length: 891, dtype: int64"
      ]
     },
     "execution_count": 27,
     "metadata": {},
     "output_type": "execute_result"
    }
   ],
   "source": [
    "df_train['Survived']"
   ]
  },
  {
   "cell_type": "markdown",
   "metadata": {
    "id": "YN-BISG4E8GM"
   },
   "source": [
    "###  Q1: 透過數值法計算  Age 和  Survived  是否有相關性?\n"
   ]
  },
  {
   "cell_type": "code",
   "execution_count": 38,
   "metadata": {},
   "outputs": [
    {
     "name": "stdout",
     "output_type": "stream",
     "text": [
      "0.0059630974469252\n"
     ]
    },
    {
     "data": {
      "text/plain": [
       "'Negligible'"
      ]
     },
     "execution_count": 38,
     "metadata": {},
     "output_type": "execute_result"
    }
   ],
   "source": [
    "import pingouin as pg\n",
    "\n",
    "\n",
    "aov = pg.anova(data = df_train ,dv='Age',between='Survived_cate',detailed = True)\n",
    "etaSq = aov.SS[0]/(aov.SS[0]+aov.SS[1])\n",
    "print(etaSq)\n",
    "\n",
    "def valiate_etaSq(etaSq):\n",
    "    if etaSq < .01:\n",
    "        qual = 'Negligible'\n",
    "    elif etaSq < .06:\n",
    "        qual = 'Small'\n",
    "    elif etaSq < .14:\n",
    "        qual = 'Medium'\n",
    "    else:\n",
    "        qual = 'Large'\n",
    "    return(qual)\n",
    "\n",
    "valiate_etaSq(etaSq)\n",
    "    "
   ]
  },
  {
   "cell_type": "markdown",
   "metadata": {
    "id": "8dlu8RnNE8GN"
   },
   "source": [
    "### Q2:透過數值法計算  Sex 和 Survived  是否有相關性?\n"
   ]
  },
  {
   "cell_type": "code",
   "execution_count": 69,
   "metadata": {},
   "outputs": [
    {
     "data": {
      "text/plain": [
       "'large'"
      ]
     },
     "execution_count": 69,
     "metadata": {},
     "output_type": "execute_result"
    }
   ],
   "source": [
    "import researchpy \n",
    "\n",
    "#交叉列連表\n",
    "cont = pd.crosstab(df_train['Sex'],df_train['Survived_cate'])\n",
    "df = min(cont.shape[0],cont.shape[1])-1\n",
    "crosstab, res = researchpy.crosstab(df_train['Sex'],df_train['Survived_cate'],test = 'chi-square')\n",
    "\n",
    "res.loc[2,'results']\n",
    "\n",
    "def judgment_CramerV(df,V):\n",
    "    if df == 1:\n",
    "        if V < 0.10:\n",
    "            qual = 'negligible'\n",
    "        elif V < 0.30:\n",
    "            qual = 'small'\n",
    "        elif V < 0.50:\n",
    "            qual = 'medium'\n",
    "        else:\n",
    "            qual = 'large'\n",
    "    elif df == 2:\n",
    "        if V < 0.07:\n",
    "            qual = 'negligible'\n",
    "        elif V < 0.21:\n",
    "            qual = 'small'\n",
    "        elif V < 0.35:\n",
    "            qual = 'medium'\n",
    "        else:\n",
    "            qual = 'large'\n",
    "    elif df == 3:\n",
    "        if V < 0.06:\n",
    "            qual = 'negligible'\n",
    "        elif V < 0.17:\n",
    "            qual = 'small'\n",
    "        elif V < 0.29:\n",
    "            qual = 'medium'\n",
    "        else:\n",
    "            qual = 'large'\n",
    "    elif df == 4:\n",
    "        if V < 0.05:\n",
    "            qual = 'negligible'\n",
    "        elif V < 0.15:\n",
    "            qual = 'small'\n",
    "        elif V < 0.25:\n",
    "            qual = 'medium'\n",
    "        else:\n",
    "            qual = 'large'\n",
    "    else:\n",
    "        if V < 0.05:\n",
    "            qual = 'negligible'\n",
    "        elif V < 0.13:\n",
    "            qual = 'small'\n",
    "        elif V < 0.22:\n",
    "            qual = 'medium'\n",
    "        else:\n",
    "            qual = 'large'\n",
    "    return(qual)\n",
    "\n",
    "judgment_CramerV(df,res.loc[2,'results'])"
   ]
  },
  {
   "cell_type": "markdown",
   "metadata": {
    "id": "6SxLGI6sE8GN"
   },
   "source": [
    "### Q3: 透過數值法計算  Age 和  Fare 是否有相關性?  "
   ]
  },
  {
   "cell_type": "code",
   "execution_count": 86,
   "metadata": {},
   "outputs": [
    {
     "data": {
      "image/png": "[encoded data removed]",
      "text/plain": [
       "<Figure size 432x288 with 1 Axes>"
      ]
     },
     "metadata": {
      "needs_background": "light"
     },
     "output_type": "display_data"
    }
   ],
   "source": [
    "df_train['Age'] = df_train['Age'].fillna(method = \"ffill\")\n",
    "\n",
    "df_train['Fare'] = df_train['Fare'].fillna(method = \"ffill\")\n",
    "\n",
    "\n",
    "corr, _ = stats.pearsonr(df_train['Age'],df_train['Fare'])\n",
    "\n",
    "\n",
    "g = sns.regplot(x = 'Age' ,y ='Fare' , data = df_train)\n"
   ]
  }
 ],
 "metadata": {
  "colab": {
   "name": "作業.ipynb",
   "provenance": []
  },
  "kernelspec": {
   "display_name": "Python 3",
   "language": "python",
   "name": "python3"
  },
  "language_info": {
   "codemirror_mode": {
    "name": "ipython",
    "version": 3
   },
   "file_extension": ".py",
   "mimetype": "text/x-python",
   "name": "python",
   "nbconvert_exporter": "python",
   "pygments_lexer": "ipython3",
   "version": "3.7.6"
  }
 },
 "nbformat": 4,
 "nbformat_minor": 1
}
